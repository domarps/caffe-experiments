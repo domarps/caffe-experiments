{
 "cells": [
  {
   "cell_type": "code",
   "execution_count": 10,
   "metadata": {},
   "outputs": [],
   "source": [
    "# As usual, a bit of setup\n",
    "import caffe \n",
    "import pickle\n",
    "import numpy as np"
   ]
  },
  {
   "cell_type": "markdown",
   "metadata": {},
   "source": [
    "## Load model and input image dir"
   ]
  },
  {
   "cell_type": "code",
   "execution_count": 19,
   "metadata": {},
   "outputs": [
    {
     "name": "stdout",
     "output_type": "stream",
     "text": [
      "bvlc_alexnet.caffemodel  deploy.prototxt\r\n"
     ]
    }
   ],
   "source": [
    "! ls caffe/dl.caffe.berkeleyvision.org/"
   ]
  },
  {
   "cell_type": "code",
   "execution_count": 25,
   "metadata": {},
   "outputs": [],
   "source": [
    "# required only if working in gpu mode\n",
    "gpu_id = 0\n",
    "\n",
    "extract_from_layer = \"fc7\"\n",
    "input_images_file = \"caffe/small-image-set/\"\n",
    "model_def= \"caffe/dl.caffe.berkeleyvision.org/deploy.prototxt\"\n",
    "pretrained_model=\"caffe/dl.caffe.berkeleyvision.org/bvlc_alexnet.caffemodel\"\n",
    "\n",
    "# output file to write extracted features to disk\n",
    "output_pkl_file_name = \"caffe/output_features.pkl\"\n",
    "\n",
    "# change based on your deploy.prototxt file\n",
    "batch_size = 10"
   ]
  },
  {
   "cell_type": "code",
   "execution_count": 27,
   "metadata": {},
   "outputs": [],
   "source": [
    "input_exp_file = 'caffe/small_set.csv'"
   ]
  },
  {
   "cell_type": "code",
   "execution_count": 28,
   "metadata": {},
   "outputs": [],
   "source": [
    "ext_file = open(input_exp_file, 'r')\n",
    "image_paths_list = [line.strip() for line in ext_file]\n",
    "ext_file.close()"
   ]
  },
  {
   "cell_type": "code",
   "execution_count": 29,
   "metadata": {},
   "outputs": [],
   "source": [
    "caffe.set_mode_gpu()\n",
    "caffe.set_device(gpu_id)"
   ]
  },
  {
   "cell_type": "code",
   "execution_count": 30,
   "metadata": {},
   "outputs": [],
   "source": [
    "images_loaded_by_caffe = [caffe.io.load_image(im) for im in image_paths_list] "
   ]
  },
  {
   "cell_type": "markdown",
   "metadata": {},
   "source": [
    "### Image transformer"
   ]
  },
  {
   "cell_type": "code",
   "execution_count": 31,
   "metadata": {},
   "outputs": [],
   "source": [
    "# set up transformer - creates transformer object\n",
    "transformer = caffe.io.Transformer({'data': net.blobs['data'].data.shape})\n",
    "\n",
    "# transpose image from HxWxC to CxHxW\n",
    "transformer.set_transpose('data', (2,0,1))\n",
    "\n",
    "# swap image channels from RGB to BGR\n",
    "transformer.set_channel_swap('data', (2,1,0))\n",
    "\n",
    "# set raw_scale = 255 to multiply with the values loaded with caffe.io.load_image\n",
    "transformer.set_raw_scale('data', 255)"
   ]
  },
  {
   "cell_type": "markdown",
   "metadata": {},
   "source": [
    "### Load DAG"
   ]
  },
  {
   "cell_type": "code",
   "execution_count": 32,
   "metadata": {},
   "outputs": [],
   "source": [
    "net = caffe.Net(model_def, pretrained_model, caffe.TEST)"
   ]
  },
  {
   "cell_type": "markdown",
   "metadata": {},
   "source": [
    "### Grab a batch of images"
   ]
  },
  {
   "cell_type": "code",
   "execution_count": 33,
   "metadata": {},
   "outputs": [],
   "source": [
    "def get_this_batch(image_list, batch_index, batch_size):\n",
    "    start_index = batch_index * batch_size\n",
    "    next_batch_size = batch_size    \n",
    "    image_list_size = len(image_list)\n",
    "    # batches might not be evenly divided\n",
    "    if(start_index + batch_size > image_list_size):  \n",
    "        reamaining_size_at_last_index = image_list_size - start_index\n",
    "        next_batch_size = reamaining_size_at_last_index\n",
    "    batch_index_indices = range(start_index, start_index+next_batch_size,1)\n",
    "    return image_list[batch_index_indices]"
   ]
  },
  {
   "cell_type": "code",
   "execution_count": 35,
   "metadata": {},
   "outputs": [
    {
     "name": "stderr",
     "output_type": "stream",
     "text": [
      "/home/ubuntu/anaconda3/envs/caffe_p35/lib/python3.5/site-packages/skimage/transform/_warps.py:84: UserWarning: The default mode, 'constant', will be changed to 'reflect' in skimage 0.15.\n",
      "  warn(\"The default mode, 'constant', will be changed to 'reflect' in \"\n"
     ]
    }
   ],
   "source": [
    "total_batch_nums = len(images_loaded_by_caffe) // batch_size    \n",
    "features_all_images = []\n",
    "images_loaded_by_caffe = np.array(images_loaded_by_caffe)\n",
    "\n",
    "# loop through all the batches \n",
    "for j in range(total_batch_nums+1):\n",
    "\timage_batch_to_process = get_this_batch(images_loaded_by_caffe, j, batch_size)\n",
    "\tnum_images_being_processed = len(image_batch_to_process)\n",
    "\tdata_blob_index = range(num_images_being_processed)\n",
    "\n",
    "\t# note that each batch is passed through a transformer \n",
    "\t# before passing to data layer\n",
    "\tnet.blobs['data'].data[data_blob_index] = [transformer.preprocess('data', img) for img in image_batch_to_process]\n",
    "\n",
    "\t# BEWARE: blobs arrays are overwritten\n",
    "\tres = net.forward()\n",
    "\n",
    "\t# actual batch feature extraction\n",
    "\tfeatures_for_this_batch = net.blobs[extract_from_layer].data[data_blob_index].copy()\n",
    "\tfeatures_all_images.extend(features_for_this_batch)"
   ]
  },
  {
   "cell_type": "code",
   "execution_count": 36,
   "metadata": {},
   "outputs": [],
   "source": [
    "pkl_object = {\"filename\": image_paths_list, \"features\": features_all_images}\n",
    "output = open(output_pkl_file_name, 'wb')\n",
    "pickle.dump(pkl_object, output, 2)\n",
    "output.close()"
   ]
  },
  {
   "cell_type": "code",
   "execution_count": null,
   "metadata": {},
   "outputs": [],
   "source": []
  }
 ],
 "metadata": {
  "kernelspec": {
   "display_name": "Environment (conda_caffe_p35)",
   "language": "python",
   "name": "conda_caffe_p35"
  },
  "language_info": {
   "codemirror_mode": {
    "name": "ipython",
    "version": 3
   },
   "file_extension": ".py",
   "mimetype": "text/x-python",
   "name": "python",
   "nbconvert_exporter": "python",
   "pygments_lexer": "ipython3",
   "version": "3.5.4"
  }
 },
 "nbformat": 4,
 "nbformat_minor": 2
}
